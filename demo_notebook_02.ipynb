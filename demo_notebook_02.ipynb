{
 "cells": [
  {
   "cell_type": "markdown",
   "id": "f034ccb95941dc00",
   "metadata": {
    "collapsed": false
   },
   "source": [
    "# Demo Notebook 2\n"
   ]
  },
  {
   "cell_type": "markdown",
   "id": "c82b51812bfffec3",
   "metadata": {
    "collapsed": false
   },
   "source": [
    "## Requirements\n",
    "This is a demo Jupyter Notebook that is used in both IS430 and IS597-MLC. It requires the Anaconda virtual environment named _e4_trainor_python_course_. This Anaconda virtual env is created during the first week of the course."
   ]
  },
  {
   "cell_type": "markdown",
   "id": "c0ed0ee16594a828",
   "metadata": {
    "collapsed": false
   },
   "source": [
    "## Very Simple Python Code"
   ]
  },
  {
   "cell_type": "code",
   "execution_count": 1,
   "id": "b72b631edabd487b",
   "metadata": {
    "collapsed": false,
    "ExecuteTime": {
     "end_time": "2024-02-01T19:29:43.163372Z",
     "start_time": "2024-02-01T19:29:43.153489Z"
    }
   },
   "outputs": [
    {
     "name": "stdout",
     "output_type": "stream",
     "text": [
      "True peace is not merely the absence of tension; it is the presence of justice.\n"
     ]
    }
   ],
   "source": [
    "print('True peace is not merely the absence of tension; it is the presence of justice.')"
   ]
  },
  {
   "cell_type": "markdown",
   "id": "fa188f5fdc227bfc",
   "metadata": {
    "collapsed": false
   },
   "source": [
    "## Importing and Using Python Standard Library Classes & Functions"
   ]
  },
  {
   "cell_type": "code",
   "execution_count": 2,
   "id": "d3e6dc444dda626d",
   "metadata": {
    "collapsed": false,
    "ExecuteTime": {
     "end_time": "2024-02-01T19:29:43.173990Z",
     "start_time": "2024-02-01T19:29:43.167228Z"
    }
   },
   "outputs": [
    {
     "name": "stdout",
     "output_type": "stream",
     "text": [
      "Today is Thursday, February 1, 2024.\n"
     ]
    }
   ],
   "source": [
    "from datetime import date\n",
    "current_date = date.today()\n",
    "print(f'Today is {current_date.strftime(\"%A, %B %-d, %Y\")}.')"
   ]
  },
  {
   "cell_type": "code",
   "execution_count": 2,
   "id": "16d666673c3d052f",
   "metadata": {
    "collapsed": false,
    "ExecuteTime": {
     "end_time": "2024-02-01T19:29:43.204982Z",
     "start_time": "2024-02-01T19:29:43.175504Z"
    }
   },
   "outputs": [],
   "source": []
  }
 ],
 "metadata": {
  "kernelspec": {
   "display_name": "Python 3 (ipykernel)",
   "language": "python",
   "name": "python3"
  },
  "language_info": {
   "codemirror_mode": {
    "name": "ipython",
    "version": 3
   },
   "file_extension": ".py",
   "mimetype": "text/x-python",
   "name": "python",
   "nbconvert_exporter": "python",
   "pygments_lexer": "ipython3",
   "version": "3.11.5"
  }
 },
 "nbformat": 4,
 "nbformat_minor": 5
}
